{
 "cells": [
  {
   "cell_type": "code",
   "execution_count": 2,
   "metadata": {},
   "outputs": [],
   "source": [
    "import pandas as pd\n",
    "import numpy as np\n",
    "def advanced_data_profiling(df):\n",
    "    if df.empty:\n",
    "        return \"The DataFrame is empty. Please provide valid data.\"\n",
    "    profile = df.describe().T\n",
    "    bounds = {}\n",
    "    for col in df.select_dtypes(include=[np.number]).columns:\n",
    "        Q1 = df[col].quantile(0.25)\n",
    "        Q3 = df[col].quantile(0.75)\n",
    "        IQR = Q3 - Q1\n",
    "        bounds[col] = {'lower_bound': Q1 - 1.5 * IQR, 'upper_bound': Q3 + 1.5 * IQR}\n",
    "    for col in bounds:\n",
    "        lower_bound = bounds[col]['lower_bound']\n",
    "        upper_bound = bounds[col]['upper_bound']\n",
    "        profile[col]['outliers'] = df[(df[col] < lower_bound) | (df[col] > upper_bound)].shape[0]\n",
    "    return profile\n"
   ]
  }
 ],
 "metadata": {
  "kernelspec": {
   "display_name": "Python 3",
   "language": "python",
   "name": "python3"
  },
  "language_info": {
   "codemirror_mode": {
    "name": "ipython",
    "version": 3
   },
   "file_extension": ".py",
   "mimetype": "text/x-python",
   "name": "python",
   "nbconvert_exporter": "python",
   "pygments_lexer": "ipython3",
   "version": "3.10.12"
  }
 },
 "nbformat": 4,
 "nbformat_minor": 2
}
