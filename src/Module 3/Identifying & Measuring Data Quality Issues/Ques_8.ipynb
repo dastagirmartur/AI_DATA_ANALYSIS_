{
 "cells": [
  {
   "cell_type": "code",
   "execution_count": null,
   "metadata": {},
   "outputs": [],
   "source": [
    "import pandas as pd\n",
    "from scipy.stats import ks_2samp\n",
    "def detect_data_drift(df,attribute,time_col,period1,period2):\n",
    " data1=df[df[time_col]==period1][attribute].dropna()\n",
    " data2=df[df[time_col]==period2][attribute].dropna()\n",
    " stat,p=ks_2samp(data1,data2)\n",
    " return p"
   ]
  }
 ],
 "metadata": {
  "kernelspec": {
   "display_name": "Python 3",
   "language": "python",
   "name": "python3"
  },
  "language_info": {
   "codemirror_mode": {
    "name": "ipython",
    "version": 3
   },
   "file_extension": ".py",
   "mimetype": "text/x-python",
   "name": "python",
   "nbconvert_exporter": "python",
   "pygments_lexer": "ipython3",
   "version": "3.10.12"
  }
 },
 "nbformat": 4,
 "nbformat_minor": 2
}
