{
 "cells": [
  {
   "cell_type": "code",
   "execution_count": 2,
   "metadata": {},
   "outputs": [],
   "source": [
    "import pandas as pd\n",
    "from scipy.stats import ks_2samp\n",
    "\n",
    "def missing_data_count(df, column):\n",
    "    return df[column].isnull().sum()\n",
    "\n",
    "def missing_data_percentage(df, column):\n",
    "    return df[column].isnull().mean() * 100\n",
    "\n",
    "def missing_department_info(df):\n",
    "    return df['Department'].isnull().sum()\n",
    "\n",
    "def duplicate_entries_count(df):\n",
    "    return df.duplicated().sum()\n",
    "\n",
    "def duplicate_supplier_names(df):\n",
    "    return df['Supplier Name'].duplicated().sum()\n",
    "\n",
    "def duplicate_product_ids(df):\n",
    "    return df['Product ID'].duplicated().sum()\n",
    "\n",
    "def inconsistent_date_format(df, column):\n",
    "    try:\n",
    "        df[column] = pd.to_datetime(df[column], errors='raise')\n",
    "    except Exception as e:\n",
    "        return f\"Date format issue: {str(e)}\"\n",
    "    return \"No inconsistencies detected\"\n",
    "\n",
    "def inconsistent_phone_number_format(df, column):\n",
    "    phone_format = df[column].str.contains(r'^\\+?[0-9\\s\\-()]{10,15}$', regex=True)\n",
    "    return df[~phone_format]\n",
    "\n",
    "def inconsistent_state_abbreviations(df, column):\n",
    "    state_mapping = {'CA': 'California', 'NY': 'New York', 'TX': 'Texas', 'FL': 'Florida'}\n",
    "    df[column] = df[column].apply(lambda x: state_mapping.get(x, x))\n",
    "    return df[df[column].isnull()]\n",
    "\n",
    "def compare_monthly_revenues(df, column, months):\n",
    "    monthly_data = df[df['Month'].isin(months)]\n",
    "    month_data = [monthly_data[monthly_data['Month'] == month][column] for month in months]\n",
    "    stat, p_value = ks_2samp(*month_data)\n",
    "    return p_value\n",
    "\n",
    "def compare_user_engagement(df, column, quarters):\n",
    "    quarterly_data = df[df['Quarter'].isin(quarters)]\n",
    "    quarter_data = [quarterly_data[quarterly_data['Quarter'] == quarter][column] for quarter in quarters]\n",
    "    stat, p_value = ks_2samp(*quarter_data)\n",
    "    return p_value\n",
    "\n",
    "def compare_stock_prices(df, column):\n",
    "    monthly_data = df.resample('M').mean()\n",
    "    stat, p_value = ks_2samp(monthly_data[column].dropna(), df[column].dropna())\n",
    "    return p_value\n"
   ]
  }
 ],
 "metadata": {
  "kernelspec": {
   "display_name": "Python 3",
   "language": "python",
   "name": "python3"
  },
  "language_info": {
   "codemirror_mode": {
    "name": "ipython",
    "version": 3
   },
   "file_extension": ".py",
   "mimetype": "text/x-python",
   "name": "python",
   "nbconvert_exporter": "python",
   "pygments_lexer": "ipython3",
   "version": "3.10.12"
  }
 },
 "nbformat": 4,
 "nbformat_minor": 2
}
