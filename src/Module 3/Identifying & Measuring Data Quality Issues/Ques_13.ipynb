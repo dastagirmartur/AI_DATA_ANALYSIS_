{
 "cells": [
  {
   "cell_type": "code",
   "execution_count": 1,
   "metadata": {},
   "outputs": [],
   "source": [
    "import pandas as pd\n",
    "def data_quality_score(df,weights):\n",
    " scores={'completeness':df.notna().mean().mean(),'uniqueness':df.nunique().mean()/len(df),'consistency':1.0}\n",
    " total_weight=sum([max(0,w) for w in weights.values()])\n",
    " if total_weight==0:\n",
    "  return 0.0\n",
    " score=0.0\n",
    " for k in weights:\n",
    "  if k in scores:\n",
    "   score+=max(0,weights[k])*scores[k]\n",
    " return score/total_weight\n",
    "def ecommerce_quality_score(df,weights):\n",
    " scores={'accuracy':1.0,'timeliness':df.notna().mean().mean(),'integrity':1.0}\n",
    " total_weight=sum([max(0,w) for w in weights.values()])\n",
    " if total_weight==0:\n",
    "  return 0.0\n",
    " score=0.0\n",
    " for k in weights:\n",
    "  if k in scores:\n",
    "   score+=max(0,weights[k])*scores[k]\n",
    " return score/total_weight\n",
    "def financial_quality_score(df,weights):\n",
    " scores={'validity':df.notna().mean().mean(),'precision':1.0,'accessibility':1.0}\n",
    " total_weight=sum([max(0,w) for w in weights.values()])\n",
    " if total_weight==0:\n",
    "  return 0.0\n",
    " score=0.0\n",
    " for k in weights:\n",
    "  if k in scores:\n",
    "   score+=max(0,weights[k])*scores[k]\n",
    " return score/total_weight"
   ]
  }
 ],
 "metadata": {
  "kernelspec": {
   "display_name": "Python 3",
   "language": "python",
   "name": "python3"
  },
  "language_info": {
   "codemirror_mode": {
    "name": "ipython",
    "version": 3
   },
   "file_extension": ".py",
   "mimetype": "text/x-python",
   "name": "python",
   "nbconvert_exporter": "python",
   "pygments_lexer": "ipython3",
   "version": "3.10.12"
  }
 },
 "nbformat": 4,
 "nbformat_minor": 2
}
