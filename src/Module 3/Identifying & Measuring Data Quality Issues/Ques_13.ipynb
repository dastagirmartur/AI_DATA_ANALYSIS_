{
 "cells": [
  {
   "cell_type": "code",
   "execution_count": null,
   "metadata": {},
   "outputs": [],
   "source": [
    "import pandas as pd\n",
    "\n",
    "def compute_quality_score(df,weights,metrics):\n",
    " if not isinstance(df,pd.DataFrame) or not isinstance(weights,dict) or not isinstance(metrics,dict):\n",
    "  return 0.0\n",
    " score=0.0\n",
    " total_weight=sum([max(0,weights.get(k,0)) for k in metrics])\n",
    " if total_weight==0:\n",
    "  return 0.0\n",
    " for k,func in metrics.items():\n",
    "  try:\n",
    "   metric_score=func(df)\n",
    "   score+=max(0,weights.get(k,0))*metric_score\n",
    "  except:\n",
    "   continue\n",
    " return score/total_weight\n",
    "\n",
    "def completeness(df):\n",
    " return df.notna().mean().mean()\n",
    "\n",
    "def uniqueness(df):\n",
    " return df.nunique().mean()/len(df) if len(df)>0 else 0\n",
    "\n",
    "def consistency(df):\n",
    " return 1.0\n",
    "\n",
    "def accuracy(df):\n",
    " return 1.0\n",
    "\n",
    "def timeliness(df):\n",
    " return df.notna().mean().mean()\n",
    "\n",
    "def integrity(df):\n",
    " return 1.0\n",
    "\n",
    "def validity(df):\n",
    " return df.notna().mean().mean()\n",
    "\n",
    "def precision(df):\n",
    " return 1.0\n",
    "\n",
    "def accessibility(df):\n",
    " return 1.0\n"
   ]
  }
 ],
 "metadata": {
  "kernelspec": {
   "display_name": "Python 3",
   "language": "python",
   "name": "python3"
  },
  "language_info": {
   "codemirror_mode": {
    "name": "ipython",
    "version": 3
   },
   "file_extension": ".py",
   "mimetype": "text/x-python",
   "name": "python",
   "nbconvert_exporter": "python",
   "pygments_lexer": "ipython3",
   "version": "3.10.12"
  }
 },
 "nbformat": 4,
 "nbformat_minor": 2
}
