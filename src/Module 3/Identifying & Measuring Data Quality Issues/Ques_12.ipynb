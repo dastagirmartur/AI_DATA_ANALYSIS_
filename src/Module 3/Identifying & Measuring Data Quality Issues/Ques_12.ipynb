{
 "cells": [
  {
   "cell_type": "code",
   "execution_count": 1,
   "metadata": {},
   "outputs": [],
   "source": [
    "import pandas as pd\n",
    "import numpy as np\n",
    "import matplotlib.pyplot as plt\n",
    "import seaborn as sns\n",
    "from scipy import stats\n",
    "def descriptive_statistics(df,column):\n",
    "    mean = df[column].mean()\n",
    "    median = df[column].median()\n",
    "    mode = df[column].mode()[0]\n",
    "    return mean, median, mode\n",
    "def distribution_analysis(df,column):\n",
    "    sns.histplot(df[column], kde=True)\n",
    "    plt.show()\n",
    "def data_type_validation(df,column,data_type):\n",
    "    if data_type == 'numeric':\n",
    "        return pd.to_numeric(df[column], errors='coerce').notnull().all()\n",
    "    elif data_type == 'date':\n",
    "        return pd.to_datetime(df[column], errors='coerce').notnull().all()\n",
    "    elif data_type == 'email':\n",
    "        return df[column].str.match(r\"[^@]+@[^@]+\\.[^@]+\").all()\n",
    "    return False"
   ]
  }
 ],
 "metadata": {
  "kernelspec": {
   "display_name": "Python 3",
   "language": "python",
   "name": "python3"
  },
  "language_info": {
   "codemirror_mode": {
    "name": "ipython",
    "version": 3
   },
   "file_extension": ".py",
   "mimetype": "text/x-python",
   "name": "python",
   "nbconvert_exporter": "python",
   "pygments_lexer": "ipython3",
   "version": "3.10.12"
  }
 },
 "nbformat": 4,
 "nbformat_minor": 2
}
