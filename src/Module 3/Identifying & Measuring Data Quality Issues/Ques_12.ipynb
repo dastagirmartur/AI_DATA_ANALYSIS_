{
 "cells": [
  {
   "cell_type": "code",
   "execution_count": 2,
   "metadata": {},
   "outputs": [],
   "source": [
    "import pandas as pd\n",
    "import numpy as np\n",
    "import matplotlib.pyplot as plt\n",
    "import seaborn as sns\n",
    "\n",
    "def descriptive_statistics(df,column):\n",
    " if column not in df.columns:\n",
    "  return None,None,None\n",
    " mean=df[column].mean()\n",
    " median=df[column].median()\n",
    " mode=df[column].mode()[0] if not df[column].mode().empty else None\n",
    " return mean,median,mode\n",
    "\n",
    "def distribution_analysis(df,column):\n",
    " if column in df.columns:\n",
    "  sns.histplot(df[column],kde=True)\n",
    "  plt.show()\n",
    "\n",
    "def data_type_validation(df,column,data_type):\n",
    " if column not in df.columns:\n",
    "  return False\n",
    " if data_type=='numeric':\n",
    "  return pd.to_numeric(df[column],errors='coerce').notna().all()\n",
    " if data_type=='date':\n",
    "  return pd.to_datetime(df[column],errors='coerce').notna().all()\n",
    " if data_type=='email':\n",
    "  return df[column].astype(str).str.fullmatch(r\"[^@]+@[^@]+\\.[^@]+\").all()\n",
    " return False"
   ]
  }
 ],
 "metadata": {
  "kernelspec": {
   "display_name": "Python 3",
   "language": "python",
   "name": "python3"
  },
  "language_info": {
   "codemirror_mode": {
    "name": "ipython",
    "version": 3
   },
   "file_extension": ".py",
   "mimetype": "text/x-python",
   "name": "python",
   "nbconvert_exporter": "python",
   "pygments_lexer": "ipython3",
   "version": "3.10.12"
  }
 },
 "nbformat": 4,
 "nbformat_minor": 2
}
