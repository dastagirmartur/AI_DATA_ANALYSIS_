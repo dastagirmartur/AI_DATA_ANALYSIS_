{
 "cells": [
  {
   "cell_type": "code",
   "execution_count": 2,
   "metadata": {},
   "outputs": [],
   "source": [
    "def compute_data_quality_score(missing_weight: float, duplicates_weight: float, format_weight: float, \n",
    "                               missing_count: int, duplicates_count: int, format_issues_count: int) -> float:\n",
    "    total_weight = missing_weight + duplicates_weight + format_weight\n",
    "    if total_weight <= 0:\n",
    "        return 0  # Avoid invalid calculations\n",
    "    score = (missing_weight * missing_count) + (duplicates_weight * duplicates_count) + (format_weight * format_issues_count)\n",
    "    return score"
   ]
  }
 ],
 "metadata": {
  "kernelspec": {
   "display_name": "Python 3",
   "language": "python",
   "name": "python3"
  },
  "language_info": {
   "codemirror_mode": {
    "name": "ipython",
    "version": 3
   },
   "file_extension": ".py",
   "mimetype": "text/x-python",
   "name": "python",
   "nbconvert_exporter": "python",
   "pygments_lexer": "ipython3",
   "version": "3.10.12"
  }
 },
 "nbformat": 4,
 "nbformat_minor": 2
}
