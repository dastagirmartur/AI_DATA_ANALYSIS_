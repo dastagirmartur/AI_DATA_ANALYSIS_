{
 "cells": [
  {
   "cell_type": "code",
   "execution_count": 1,
   "metadata": {},
   "outputs": [
    {
     "name": "stdout",
     "output_type": "stream",
     "text": [
      "   feature_1  feature_2\n",
      "0          1        2.0\n",
      "1          2        4.0\n",
      "2          3        6.0\n",
      "3          4        8.0\n",
      "4          5       10.0\n",
      "5          6       12.0\n",
      "6          7       14.0\n"
     ]
    }
   ],
   "source": [
    "import pandas as pd\n",
    "from sklearn.linear_model import LinearRegression\n",
    "from sklearn.model_selection import train_test_split\n",
    "data = pd.DataFrame({\n",
    "    'feature_1': [1, 2, 3, 4, 5, 6, 7],\n",
    "    'feature_2': [2, 4, 6, 8, None, 12, 14]\n",
    "})\n",
    "train_data = data[data['feature_2'].notnull()]\n",
    "test_data = data[data['feature_2'].isnull()]\n",
    "X_train = train_data[['feature_1']]\n",
    "y_train = train_data['feature_2']\n",
    "X_test = test_data[['feature_1']]\n",
    "model = LinearRegression()\n",
    "model.fit(X_train, y_train)\n",
    "predicted = model.predict(X_test)\n",
    "data.loc[data['feature_2'].isnull(), 'feature_2'] = predicted\n",
    "print(data)"
   ]
  }
 ],
 "metadata": {
  "kernelspec": {
   "display_name": "Python 3",
   "language": "python",
   "name": "python3"
  },
  "language_info": {
   "codemirror_mode": {
    "name": "ipython",
    "version": 3
   },
   "file_extension": ".py",
   "mimetype": "text/x-python",
   "name": "python",
   "nbconvert_exporter": "python",
   "pygments_lexer": "ipython3",
   "version": "3.10.12"
  }
 },
 "nbformat": 4,
 "nbformat_minor": 2
}
