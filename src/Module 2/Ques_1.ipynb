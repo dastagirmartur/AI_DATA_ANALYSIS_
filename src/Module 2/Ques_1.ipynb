{
 "cells": [
  {
   "cell_type": "code",
   "execution_count": 16,
   "metadata": {},
   "outputs": [
    {
     "name": "stdout",
     "output_type": "stream",
     "text": [
      "First five rows of the DataFrame:\n",
      "   Duration          Date  Pulse  Maxpulse  Calories\n",
      "0        60  '2020/12/01'    110       130     409.1\n",
      "1        60  '2020/12/02'    117       145     479.0\n",
      "2        60  '2020/12/03'    103       135     340.0\n",
      "3        45  '2020/12/04'    109       175     282.4\n",
      "4        45  '2020/12/05'    117       148     406.0\n",
      "\n",
      "DataFrame Summary:\n",
      "<class 'pandas.core.frame.DataFrame'>\n",
      "RangeIndex: 32 entries, 0 to 31\n",
      "Data columns (total 5 columns):\n",
      " #   Column    Non-Null Count  Dtype  \n",
      "---  ------    --------------  -----  \n",
      " 0   Duration  32 non-null     int64  \n",
      " 1   Date      31 non-null     object \n",
      " 2   Pulse     32 non-null     int64  \n",
      " 3   Maxpulse  32 non-null     int64  \n",
      " 4   Calories  30 non-null     float64\n",
      "dtypes: float64(1), int64(3), object(1)\n",
      "memory usage: 1.4+ KB\n"
     ]
    }
   ],
   "source": [
    "import pandas as pd\n",
    "df = pd.read_csv('your_file.csv')\n",
    "print(\"First five rows of the DataFrame:\")\n",
    "print(df.head())\n",
    "print(\"\\nDataFrame Summary:\")\n",
    "df.info()"
   ]
  },
  {
   "cell_type": "code",
   "execution_count": 17,
   "metadata": {},
   "outputs": [
    {
     "name": "stdout",
     "output_type": "stream",
     "text": [
      "Column Data Types:\n",
      "Duration      int64\n",
      "Date         object\n",
      "Pulse         int64\n",
      "Maxpulse      int64\n",
      "Calories    float64\n",
      "dtype: object\n",
      "\n",
      "Selected Column:\n",
      "0     110\n",
      "1     117\n",
      "2     103\n",
      "3     109\n",
      "4     117\n",
      "5     102\n",
      "6     110\n",
      "7     104\n",
      "8     109\n",
      "9      98\n",
      "10    103\n",
      "11    100\n",
      "12    100\n",
      "13    106\n",
      "14    104\n",
      "15     98\n",
      "16     98\n",
      "17    100\n",
      "18     90\n",
      "19    103\n",
      "20     97\n",
      "21    108\n",
      "22    100\n",
      "23    130\n",
      "24    105\n",
      "25    102\n",
      "26    100\n",
      "27     92\n",
      "28    103\n",
      "29    100\n",
      "30    102\n",
      "31     92\n",
      "Name: Pulse, dtype: int64\n",
      "\n",
      "Sliced Rows:\n",
      "   Duration          Date  Pulse  Maxpulse  Calories\n",
      "0        60  '2020/12/01'    110       130     409.1\n",
      "1        60  '2020/12/02'    117       145     479.0\n",
      "2        60  '2020/12/03'    103       135     340.0\n",
      "3        45  '2020/12/04'    109       175     282.4\n",
      "4        45  '2020/12/05'    117       148     406.0\n"
     ]
    }
   ],
   "source": [
    "import pandas as pd\n",
    "df = pd.read_csv('your_file.csv')\n",
    "print(\"Column Data Types:\")\n",
    "print(df.dtypes)\n",
    "print(\"\\nSelected Column:\")\n",
    "print(df['Pulse'])\n",
    "print(\"\\nSliced Rows:\")\n",
    "print(df[0:5])"
   ]
  },
  {
   "cell_type": "code",
   "execution_count": 18,
   "metadata": {},
   "outputs": [
    {
     "name": "stdout",
     "output_type": "stream",
     "text": [
      "Cleaned DataFrame:\n",
      "   Duration          Date  Pulse  Max_Pulse  Energy\n",
      "0        60  '2020/12/01'    110        130   409.1\n",
      "1        60  '2020/12/02'    117        145   479.0\n",
      "2        60  '2020/12/03'    103        135   340.0\n",
      "3        45  '2020/12/04'    109        175   282.4\n",
      "4        45  '2020/12/05'    117        148   406.0\n"
     ]
    }
   ],
   "source": [
    "import pandas as pd\n",
    "df = pd.read_csv('your_file.csv')\n",
    "df = df.fillna(0)\n",
    "df = df.rename(columns={\n",
    "    'Maxpulse': 'Max_Pulse',\n",
    "    'Calories': 'Energy'\n",
    "})\n",
    "df = df.drop_duplicates()\n",
    "print(\"Cleaned DataFrame:\")\n",
    "print(df.head())"
   ]
  },
  {
   "cell_type": "code",
   "execution_count": 19,
   "metadata": {},
   "outputs": [
    {
     "name": "stdout",
     "output_type": "stream",
     "text": [
      "Grouped by 'Pulse' with mean values:\n",
      "       Duration   Max_Pulse      Energy\n",
      "Pulse                                  \n",
      "90         45.0  112.000000    0.000000\n",
      "92         60.0  116.500000  242.000000\n",
      "97         45.0  125.000000  243.000000\n",
      "98         60.0  122.333333  253.066667\n",
      "100        57.0  122.200000  272.540000\n",
      "102        60.0  127.333333  338.266667\n",
      "103        60.0  134.250000  248.075000\n",
      "104       255.0  133.000000  316.300000\n",
      "105        45.0  132.000000  246.000000\n",
      "106        60.0  128.000000  345.300000\n",
      "108        60.0  131.000000  364.200000\n",
      "109        37.5  154.000000  238.750000\n",
      "110        60.0  133.000000  391.550000\n",
      "117        52.5  146.500000  442.500000\n",
      "130        60.0  101.000000  300.000000\n",
      "\n",
      "Exported grouped data to 'grouped_mean_output.csv'\n",
      "\n",
      "Grouped by 'Pulse' with multiple aggregations:\n",
      "      Duration            Max_Pulse                Energy        \n",
      "          mean  max min        mean  max  min        mean     sum\n",
      "Pulse                                                            \n",
      "90        45.0   45  45  112.000000  112  112    0.000000     0.0\n",
      "92        60.0   60  60  116.500000  118  115  242.000000   484.0\n",
      "97        45.0   45  45  125.000000  125  125  243.000000   243.0\n",
      "98        60.0   60  60  122.333333  124  120  253.066667   759.2\n",
      "100       57.0   60  45  122.200000  132  119  272.540000  1362.7\n",
      "102       60.0   60  60  127.333333  129  126  338.266667  1014.8\n",
      "103       60.0   60  60  134.250000  147  123  248.075000   992.3\n",
      "104      255.0  450  60  133.000000  134  132  316.300000   632.6\n",
      "105       45.0   45  45  132.000000  132  132  246.000000   246.0\n",
      "106       60.0   60  60  128.000000  128  128  345.300000   345.3\n",
      "108       60.0   60  60  131.000000  131  131  364.200000   364.2\n",
      "109       37.5   45  30  154.000000  175  133  238.750000   477.5\n",
      "110       60.0   60  60  133.000000  136  130  391.550000   783.1\n",
      "117       52.5   60  45  146.500000  148  145  442.500000   885.0\n",
      "130       60.0   60  60  101.000000  101  101  300.000000   300.0\n"
     ]
    }
   ],
   "source": [
    "import pandas as pd\n",
    "df = pd.read_csv('your_file.csv')\n",
    "df = df.fillna(0)\n",
    "df = df.rename(columns={\n",
    "    'Maxpulse': 'Max_Pulse',\n",
    "    'Calories': 'Energy'\n",
    "})\n",
    "df = df.drop_duplicates()\n",
    "grouped_mean = df.groupby('Pulse').mean(numeric_only=True)\n",
    "print(\"Grouped by 'Pulse' with mean values:\")\n",
    "print(grouped_mean)\n",
    "grouped_mean.to_csv('grouped_mean_output.csv', index=True)\n",
    "print(\"\\nExported grouped data to 'grouped_mean_output.csv'\")\n",
    "grouped_multi_agg = df.groupby('Pulse').agg({\n",
    "    'Duration': ['mean', 'max', 'min'],\n",
    "    'Max_Pulse': ['mean', 'max', 'min'],\n",
    "    'Energy': ['mean', 'sum']\n",
    "})\n",
    "print(\"\\nGrouped by 'Pulse' with multiple aggregations:\")\n",
    "print(grouped_multi_agg)"
   ]
  }
 ],
 "metadata": {
  "kernelspec": {
   "display_name": "Python 3",
   "language": "python",
   "name": "python3"
  },
  "language_info": {
   "codemirror_mode": {
    "name": "ipython",
    "version": 3
   },
   "file_extension": ".py",
   "mimetype": "text/x-python",
   "name": "python",
   "nbconvert_exporter": "python",
   "pygments_lexer": "ipython3",
   "version": "3.10.12"
  }
 },
 "nbformat": 4,
 "nbformat_minor": 2
}
