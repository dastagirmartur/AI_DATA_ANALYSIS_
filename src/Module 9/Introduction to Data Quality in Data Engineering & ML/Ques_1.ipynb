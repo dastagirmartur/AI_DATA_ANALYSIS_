{
 "cells": [
  {
   "cell_type": "markdown",
   "metadata": {},
   "source": [
    "### Detect Data Drift\n",
    "**Description**: Data drift can occur when the statistical properties of your data change over time. Learn to detect data drift using visualizations."
   ]
  },
  {
   "cell_type": "code",
   "execution_count": null,
   "metadata": {},
   "outputs": [],
   "source": [
    "# Write your code from here"
    import pandas as pd
import numpy as np
import seaborn as sns
import matplotlib.pyplot as plt

# Simulated reference and current datasets
np.random.seed(0)
reference_data = pd.DataFrame({
    "feature": np.random.normal(loc=0, scale=1, size=1000)
})
current_data = pd.DataFrame({
    "feature": np.random.normal(loc=0.5, scale=1.2, size=1000)  # Drifted mean and std
})

# Visualization for data drift detection
plt.figure(figsize=(10, 6))
sns.kdeplot(reference_data["feature"], label="Reference", fill=True)
sns.kdeplot(current_data["feature"], label="Current", fill=True)
plt.title("Data Drift Detection: Feature Distribution")
plt.xlabel("Feature Value")
plt.ylabel("Density")
plt.legend()
plt.grid(True)
plt.show()

   ]
  }
 ],
 "metadata": {
  "kernelspec": {
   "display_name": "base",
   "language": "python",
   "name": "python3"
  },
  "language_info": {
   "name": "python",
   "version": "3.12.7"
  }
 },
 "nbformat": 4,
 "nbformat_minor": 2
}
